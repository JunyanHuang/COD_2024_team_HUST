{
 "cells": [
  {
   "cell_type": "code",
   "execution_count": 1,
   "id": "7d41e0a1",
   "metadata": {
    "_cell_guid": "b1076dfc-b9ad-4769-8c92-a6c4dae69d19",
    "_uuid": "8f2839f25d086af736a60e9eeb907d3b93b6e0e5",
    "execution": {
     "iopub.execute_input": "2024-06-17T14:10:13.714404Z",
     "iopub.status.busy": "2024-06-17T14:10:13.713632Z",
     "iopub.status.idle": "2024-06-17T14:10:22.456379Z",
     "shell.execute_reply": "2024-06-17T14:10:22.455417Z"
    },
    "papermill": {
     "duration": 8.750288,
     "end_time": "2024-06-17T14:10:22.458723",
     "exception": false,
     "start_time": "2024-06-17T14:10:13.708435",
     "status": "completed"
    },
    "tags": []
   },
   "outputs": [],
   "source": [
    "import os\n",
    "import timm\n",
    "import torch\n",
    "from tqdm import tqdm\n",
    "import cv2\n",
    "from torch.utils.data import Dataset, DataLoader, random_split\n",
    "import torch\n",
    "from torch.utils.data import DataLoader, Dataset\n",
    "from torchvision.transforms import transforms\n",
    "import torch.nn.functional as F\n",
    "# from sklearn.metrics import accuracy_score\n",
    "from torchmetrics.classification import MulticlassAccuracy"
   ]
  },
  {
   "cell_type": "markdown",
   "id": "3de3fe36",
   "metadata": {
    "papermill": {
     "duration": 0.00296,
     "end_time": "2024-06-17T14:10:22.465342",
     "exception": false,
     "start_time": "2024-06-17T14:10:22.462382",
     "status": "completed"
    },
    "tags": []
   },
   "source": [
    "## dataset"
   ]
  },
  {
   "cell_type": "code",
   "execution_count": 2,
   "id": "524c70d6",
   "metadata": {
    "execution": {
     "iopub.execute_input": "2024-06-17T14:10:22.472769Z",
     "iopub.status.busy": "2024-06-17T14:10:22.472481Z",
     "iopub.status.idle": "2024-06-17T14:10:22.497046Z",
     "shell.execute_reply": "2024-06-17T14:10:22.496309Z"
    },
    "papermill": {
     "duration": 0.030499,
     "end_time": "2024-06-17T14:10:22.498898",
     "exception": false,
     "start_time": "2024-06-17T14:10:22.468399",
     "status": "completed"
    },
    "tags": []
   },
   "outputs": [],
   "source": [
    "classes = os.listdir('/kaggle/input/half-binary/half_binary_COD/half_binary_COD')"
   ]
  },
  {
   "cell_type": "code",
   "execution_count": 3,
   "id": "daad8ccc",
   "metadata": {
    "execution": {
     "iopub.execute_input": "2024-06-17T14:10:22.506575Z",
     "iopub.status.busy": "2024-06-17T14:10:22.506100Z",
     "iopub.status.idle": "2024-06-17T14:10:28.527809Z",
     "shell.execute_reply": "2024-06-17T14:10:28.526909Z"
    },
    "papermill": {
     "duration": 6.028538,
     "end_time": "2024-06-17T14:10:28.530576",
     "exception": false,
     "start_time": "2024-06-17T14:10:22.502038",
     "status": "completed"
    },
    "tags": []
   },
   "outputs": [
    {
     "data": {
      "text/plain": [
       "27711"
      ]
     },
     "execution_count": 3,
     "metadata": {},
     "output_type": "execute_result"
    }
   ],
   "source": [
    "class half_binary_dataset(Dataset):\n",
    "    \"\"\"\n",
    "        半二值图像数据集\n",
    "    \"\"\"\n",
    "\n",
    "    def __init__(self, add_imagenet=False, train=True, transform=None):\n",
    "        super().__init__()\n",
    "\n",
    "        ## set classes\n",
    "        self.classes_ImageNet = os.listdir('/kaggle/input/half-binary/half_binary_ImageNet_15/half_binary_ImageNet_15')\n",
    "        self.classes_COD = os.listdir('/kaggle/input/half-binary/half_binary_COD/half_binary_COD')\n",
    "        self.Train = train\n",
    "        self.transform = transform\n",
    "\n",
    "        ## load dataset\n",
    "        self.train_data = []\n",
    "        self.labels = []\n",
    "\n",
    "        # load COD train\n",
    "        if self.Train:\n",
    "            for label, class_name in enumerate(self.classes_COD):\n",
    "                image_path = os.path.join('/kaggle/input/half-binary/half_binary_COD/half_binary_COD', class_name, 'train')\n",
    "                images = os.listdir(image_path)\n",
    "                for img in images:\n",
    "                    self.train_data.append(\n",
    "                        os.path.join(image_path, img)\n",
    "                    )\n",
    "                    self.labels.append(classes.index(class_name))\n",
    "                    \n",
    "        # load COD test\n",
    "        else:\n",
    "            for label, class_name in enumerate(self.classes_COD):\n",
    "                image_path = os.path.join('/kaggle/input/half-binary/half_binary_COD/half_binary_COD', class_name, 'train')\n",
    "                images = os.listdir(image_path)\n",
    "                for img in images:\n",
    "                    self.train_data.append(\n",
    "                        os.path.join(image_path, img)\n",
    "                    )\n",
    "                    self.labels.append(classes.index(class_name))\n",
    "\n",
    "        # load imageNet\n",
    "        if add_imagenet:\n",
    "                for label, class_name in enumerate(self.classes_ImageNet):\n",
    "                    image_path = os.path.join('/kaggle/input/half-binary/half_binary_ImageNet_15/half_binary_ImageNet_15', class_name)\n",
    "                    images = os.listdir(image_path)\n",
    "                    for img in images:\n",
    "                        self.train_data.append(\n",
    "                            os.path.join(image_path, img)\n",
    "                        )\n",
    "                        self.labels.append(classes.index(class_name))\n",
    "\n",
    "        \n",
    "    def __len__(self):\n",
    "        return len(self.train_data)\n",
    "\n",
    "    def __getitem__(self, idx):\n",
    "        img = cv2.imread(\n",
    "            self.train_data[idx]\n",
    "        )\n",
    "        if self.transform:\n",
    "            img = self.transform(img)\n",
    "        return img, self.labels[idx]\n",
    "\n",
    "_dataset = half_binary_dataset(add_imagenet=True)\n",
    "len(_dataset.labels)"
   ]
  },
  {
   "cell_type": "markdown",
   "id": "bca122dc",
   "metadata": {
    "papermill": {
     "duration": 0.004888,
     "end_time": "2024-06-17T14:10:28.540383",
     "exception": false,
     "start_time": "2024-06-17T14:10:28.535495",
     "status": "completed"
    },
    "tags": []
   },
   "source": [
    "## Train"
   ]
  },
  {
   "cell_type": "code",
   "execution_count": 4,
   "id": "5e1d46d6",
   "metadata": {
    "execution": {
     "iopub.execute_input": "2024-06-17T14:10:28.549017Z",
     "iopub.status.busy": "2024-06-17T14:10:28.548497Z",
     "iopub.status.idle": "2024-06-17T14:10:28.553678Z",
     "shell.execute_reply": "2024-06-17T14:10:28.552651Z"
    },
    "papermill": {
     "duration": 0.012003,
     "end_time": "2024-06-17T14:10:28.556003",
     "exception": false,
     "start_time": "2024-06-17T14:10:28.544000",
     "status": "completed"
    },
    "tags": []
   },
   "outputs": [],
   "source": [
    "## 参数\n",
    "lr = 0.002\n",
    "betas = (0.9, 0.999)\n",
    "batch_size = 32\n",
    "epoches = 10\n",
    "T_max = 10\n",
    "weight_decay=1e-3\n",
    "class_num = len(classes)"
   ]
  },
  {
   "cell_type": "code",
   "execution_count": 5,
   "id": "a0f7a79e",
   "metadata": {
    "execution": {
     "iopub.execute_input": "2024-06-17T14:10:28.563771Z",
     "iopub.status.busy": "2024-06-17T14:10:28.563502Z",
     "iopub.status.idle": "2024-06-17T14:10:28.570806Z",
     "shell.execute_reply": "2024-06-17T14:10:28.569986Z"
    },
    "papermill": {
     "duration": 0.01374,
     "end_time": "2024-06-17T14:10:28.573033",
     "exception": false,
     "start_time": "2024-06-17T14:10:28.559293",
     "status": "completed"
    },
    "tags": []
   },
   "outputs": [],
   "source": [
    "def create_lr_scheduler(optimizer,\n",
    "                        num_step: int,\n",
    "                        epochs: int,\n",
    "                        warmup=True,\n",
    "                        warmup_epochs=1,\n",
    "                        warmup_factor=1e-3):\n",
    "    \"\"\"\n",
    "    学习率调度器， 先warm up，然后再decay\n",
    "    :param optimizer: 优化器\n",
    "    :param num_step: 每个epoch的step数，即每个epoch中batch的数量，len(train_dataset) / batch_size\n",
    "    :param epochs: 总epoch数\n",
    "    :param warmup: 是否warm up\n",
    "    :param warmup_epochs: warm up 的epoch数\n",
    "    :param warmup_factor: warm up 的学习率因子\n",
    "    :return:\n",
    "    \"\"\"\n",
    "    assert num_step > 0 and epochs > 0\n",
    "    if warmup is False:\n",
    "        warmup_epochs = 0\n",
    "\n",
    "    def f(x):\n",
    "        \"\"\"\n",
    "        根据step数返回一个学习率因子，\n",
    "        注意在训练开始之前，pytorch会提前调用一次lr_schedule.step()方法\n",
    "\n",
    "        \"\"\"\n",
    "        if warmup is True and x <= (warmup_epochs * num_step):\n",
    "            alpha = float(x) / (warmup_epochs * num_step)\n",
    "            # 在warm up 的过程中，学习率因子：warmup factor -> 1\n",
    "\n",
    "            return warmup_factor * (1 - alpha) + alpha\n",
    "\n",
    "        else:\n",
    "            # 在warm up 之后，学习率因子：1 -> 0\n",
    "            return (1 - (x - warmup_epochs * num_step) / ((epochs - warmup_epochs) * num_step)) ** 2\n",
    "\n",
    "    return torch.optim.lr_scheduler.LambdaLR(optimizer, lr_lambda=f)"
   ]
  },
  {
   "cell_type": "code",
   "execution_count": 6,
   "id": "2ad8be2f",
   "metadata": {
    "execution": {
     "iopub.execute_input": "2024-06-17T14:10:28.580983Z",
     "iopub.status.busy": "2024-06-17T14:10:28.580529Z",
     "iopub.status.idle": "2024-06-17T14:42:02.376870Z",
     "shell.execute_reply": "2024-06-17T14:42:02.375416Z"
    },
    "papermill": {
     "duration": 1893.802639,
     "end_time": "2024-06-17T14:42:02.379000",
     "exception": false,
     "start_time": "2024-06-17T14:10:28.576361",
     "status": "completed"
    },
    "tags": []
   },
   "outputs": [
    {
     "data": {
      "application/vnd.jupyter.widget-view+json": {
       "model_id": "8cf8f8e44a1c4974b21c1b33cfa60c91",
       "version_major": 2,
       "version_minor": 0
      },
      "text/plain": [
       "model.safetensors:   0%|          | 0.00/88.2M [00:00<?, ?B/s]"
      ]
     },
     "metadata": {},
     "output_type": "display_data"
    },
    {
     "name": "stdout",
     "output_type": "stream",
     "text": [
      "epoch: 1\n",
      "loss: 1.747079708077891   accuracy train: 47.16%\n",
      "accuracy test: 1.47%\n",
      "\n",
      "epoch: 2\n",
      "loss: 0.793206268727917   accuracy train: 68.45%\n",
      "accuracy test: 3.43%\n",
      "\n",
      "epoch: 3\n",
      "loss: 0.5825445634198932   accuracy train: 73.47%\n",
      "accuracy test: 5.91%\n",
      "\n",
      "epoch: 4\n",
      "loss: 0.44960859032481154   accuracy train: 76.96%\n",
      "accuracy test: 9.14%\n",
      "\n",
      "epoch: 5\n",
      "loss: 0.3389184835149668   accuracy train: 81.49%\n",
      "accuracy test: 17.23%\n",
      "\n",
      "epoch: 6\n",
      "loss: 0.24585677504025433   accuracy train: 86.40%\n",
      "accuracy test: 27.85%\n",
      "\n",
      "epoch: 7\n",
      "loss: 0.166462010290478   accuracy train: 90.92%\n",
      "accuracy test: 46.17%\n",
      "\n",
      "epoch: 8\n",
      "loss: 0.10989672856353756   accuracy train: 95.13%\n",
      "accuracy test: 69.18%\n",
      "\n",
      "epoch: 9\n",
      "loss: 0.07480344737102396   accuracy train: 97.30%\n",
      "accuracy test: 77.40%\n",
      "\n",
      "epoch: 10\n",
      "loss: 0.05927620069355022   accuracy train: 98.12%\n",
      "accuracy test: 63.63%\n",
      "\n"
     ]
    }
   ],
   "source": [
    "transform = transforms.Compose([\n",
    "    transforms.ToPILImage(),  # 将cv2读取的图像从NumPy数组转换为PIL图像\n",
    "    transforms.Resize((224, 224)),  # 调整图像大小\n",
    "    transforms.ToTensor(),  # 将图像转换为张量并归一化到[0, 1]\n",
    "    transforms.Normalize(mean=[0.485, 0.456, 0.406], std=[0.229, 0.224, 0.225])  # 标准化\n",
    "])\n",
    "\n",
    "\n",
    "train_dataset = half_binary_dataset(add_imagenet=True, transform=transform)\n",
    "test_dataset = half_binary_dataset(add_imagenet=False, transform=transform, train=False)\n",
    "\n",
    "train_loader = DataLoader(\n",
    "    train_dataset,\n",
    "    num_workers=min([os.cpu_count(), batch_size if batch_size > 1 else 0, 8]),\n",
    "    shuffle=True,\n",
    "    batch_size=batch_size\n",
    ")\n",
    "test_loader = DataLoader(\n",
    "    test_dataset,\n",
    "    num_workers=min([os.cpu_count(), batch_size if batch_size > 1 else 0, 8]),\n",
    "    shuffle=False,\n",
    "    batch_size=batch_size\n",
    ")\n",
    "\n",
    "## device\n",
    "device = torch.device('cuda' if torch.cuda.is_available() else 'cpu')\n",
    "\n",
    "\n",
    "## import model\n",
    "model = timm.create_model('vit_small_patch16_224', pretrained=True)\n",
    "model.head = torch.nn.Linear(model.head.in_features, class_num)  # 修改分类头为15类\n",
    "model:torch.nn.Module = model.to(device)\n",
    "\n",
    "\n",
    "# criterion and optimizer\n",
    "criterion = torch.nn.CrossEntropyLoss()\n",
    "optimizer = torch.optim.Adam(model.parameters(), lr=lr, betas=betas, weight_decay=weight_decay)\n",
    "lr_scheduler = create_lr_scheduler(\n",
    "    optimizer=optimizer,\n",
    "    num_step=len(train_loader),\n",
    "    epochs=epoches,\n",
    "    warmup_epochs=3\n",
    ")\n",
    "accuracy_score = MulticlassAccuracy(num_classes=class_num).to(device)\n",
    "\n",
    "\n",
    "if __name__ == \"__main__\":\n",
    "    for ep in range(epoches):\n",
    "        print(\"epoch:\", ep + 1)\n",
    "        loss_one_epoch = []\n",
    "        accuracy_one_epoch = []\n",
    "        for images, labels in train_loader:\n",
    "            optimizer.zero_grad()\n",
    "\n",
    "            # pre\n",
    "            images, labels = images.to(device), labels.to(device)\n",
    "            # labels = F.one_hot(labels, class_num).to(torch.float32)\n",
    "            pre: torch.Tensor = model(images)\n",
    "\n",
    "            # back-propagation\n",
    "            loss: torch.Tensor = criterion(pre, F.one_hot(labels, class_num).to(torch.float32))\n",
    "            loss.backward()\n",
    "            optimizer.step()\n",
    "            \n",
    "\n",
    "            # count\n",
    "            loss_one_epoch.append(loss.detach().item())\n",
    "            accuracy_one_epoch.append(\n",
    "                accuracy_score(pre, labels)\n",
    "            )\n",
    "\n",
    "        print(f'loss: {sum(loss_one_epoch) / len(loss_one_epoch)}   accuracy train: {sum(accuracy_one_epoch) / len(accuracy_one_epoch) * 100.0:.2f}%')\n",
    "        lr_scheduler.step()\n",
    "        \n",
    "        accuracy_one_epoch = []\n",
    "        for images, labels in test_loader:\n",
    "            with torch.no_grad():\n",
    "                images, labels = images.to(device), labels.to(device)\n",
    "                pre: torch.Tensor = model(images)\n",
    "\n",
    "                accuracy_one_epoch.append(\n",
    "                    accuracy_score(pre, labels)\n",
    "                )\n",
    "        print(f'accuracy test: {sum(accuracy_one_epoch) / len(accuracy_one_epoch) * 100.0:.2f}%\\n')\n",
    "\n",
    "\n",
    "    ## save model\n",
    "    torch.save(model.state_dict(), 'vit_S16.pt')"
   ]
  },
  {
   "cell_type": "markdown",
   "id": "52c6142f",
   "metadata": {
    "papermill": {
     "duration": 0.005076,
     "end_time": "2024-06-17T14:42:02.389485",
     "exception": false,
     "start_time": "2024-06-17T14:42:02.384409",
     "status": "completed"
    },
    "tags": []
   },
   "source": []
  }
 ],
 "metadata": {
  "kaggle": {
   "accelerator": "gpu",
   "dataSources": [
    {
     "datasetId": 5216894,
     "sourceId": 8711362,
     "sourceType": "datasetVersion"
    }
   ],
   "dockerImageVersionId": 30732,
   "isGpuEnabled": true,
   "isInternetEnabled": true,
   "language": "python",
   "sourceType": "notebook"
  },
  "kernelspec": {
   "display_name": "Python 3",
   "language": "python",
   "name": "python3"
  },
  "language_info": {
   "codemirror_mode": {
    "name": "ipython",
    "version": 3
   },
   "file_extension": ".py",
   "mimetype": "text/x-python",
   "name": "python",
   "nbconvert_exporter": "python",
   "pygments_lexer": "ipython3",
   "version": "3.10.13"
  },
  "papermill": {
   "default_parameters": {},
   "duration": 1912.856079,
   "end_time": "2024-06-17T14:42:03.921742",
   "environment_variables": {},
   "exception": null,
   "input_path": "__notebook__.ipynb",
   "output_path": "__notebook__.ipynb",
   "parameters": {},
   "start_time": "2024-06-17T14:10:11.065663",
   "version": "2.5.0"
  },
  "widgets": {
   "application/vnd.jupyter.widget-state+json": {
    "state": {
     "171dfe65013e4c5db3b8e4c8e346b6cd": {
      "model_module": "@jupyter-widgets/controls",
      "model_module_version": "1.5.0",
      "model_name": "HTMLModel",
      "state": {
       "_dom_classes": [],
       "_model_module": "@jupyter-widgets/controls",
       "_model_module_version": "1.5.0",
       "_model_name": "HTMLModel",
       "_view_count": null,
       "_view_module": "@jupyter-widgets/controls",
       "_view_module_version": "1.5.0",
       "_view_name": "HTMLView",
       "description": "",
       "description_tooltip": null,
       "layout": "IPY_MODEL_97af3279138d4169b23b9496d5694519",
       "placeholder": "​",
       "style": "IPY_MODEL_71b53aa67f624f52954f4edfeaa47299",
       "value": " 88.2M/88.2M [00:00&lt;00:00, 168MB/s]"
      }
     },
     "28c405d3058247abba715398f3a17ce4": {
      "model_module": "@jupyter-widgets/base",
      "model_module_version": "1.2.0",
      "model_name": "LayoutModel",
      "state": {
       "_model_module": "@jupyter-widgets/base",
       "_model_module_version": "1.2.0",
       "_model_name": "LayoutModel",
       "_view_count": null,
       "_view_module": "@jupyter-widgets/base",
       "_view_module_version": "1.2.0",
       "_view_name": "LayoutView",
       "align_content": null,
       "align_items": null,
       "align_self": null,
       "border": null,
       "bottom": null,
       "display": null,
       "flex": null,
       "flex_flow": null,
       "grid_area": null,
       "grid_auto_columns": null,
       "grid_auto_flow": null,
       "grid_auto_rows": null,
       "grid_column": null,
       "grid_gap": null,
       "grid_row": null,
       "grid_template_areas": null,
       "grid_template_columns": null,
       "grid_template_rows": null,
       "height": null,
       "justify_content": null,
       "justify_items": null,
       "left": null,
       "margin": null,
       "max_height": null,
       "max_width": null,
       "min_height": null,
       "min_width": null,
       "object_fit": null,
       "object_position": null,
       "order": null,
       "overflow": null,
       "overflow_x": null,
       "overflow_y": null,
       "padding": null,
       "right": null,
       "top": null,
       "visibility": null,
       "width": null
      }
     },
     "715b15caf23740f68749bb65a870cd27": {
      "model_module": "@jupyter-widgets/controls",
      "model_module_version": "1.5.0",
      "model_name": "FloatProgressModel",
      "state": {
       "_dom_classes": [],
       "_model_module": "@jupyter-widgets/controls",
       "_model_module_version": "1.5.0",
       "_model_name": "FloatProgressModel",
       "_view_count": null,
       "_view_module": "@jupyter-widgets/controls",
       "_view_module_version": "1.5.0",
       "_view_name": "ProgressView",
       "bar_style": "success",
       "description": "",
       "description_tooltip": null,
       "layout": "IPY_MODEL_fdb6e9a303de41868c92b9df1c726ca1",
       "max": 88216496.0,
       "min": 0.0,
       "orientation": "horizontal",
       "style": "IPY_MODEL_8b8a889a63f4419cab80ce6d52402d1e",
       "value": 88216496.0
      }
     },
     "71b53aa67f624f52954f4edfeaa47299": {
      "model_module": "@jupyter-widgets/controls",
      "model_module_version": "1.5.0",
      "model_name": "DescriptionStyleModel",
      "state": {
       "_model_module": "@jupyter-widgets/controls",
       "_model_module_version": "1.5.0",
       "_model_name": "DescriptionStyleModel",
       "_view_count": null,
       "_view_module": "@jupyter-widgets/base",
       "_view_module_version": "1.2.0",
       "_view_name": "StyleView",
       "description_width": ""
      }
     },
     "8b06750008e343329857f5763e2d78fb": {
      "model_module": "@jupyter-widgets/controls",
      "model_module_version": "1.5.0",
      "model_name": "HTMLModel",
      "state": {
       "_dom_classes": [],
       "_model_module": "@jupyter-widgets/controls",
       "_model_module_version": "1.5.0",
       "_model_name": "HTMLModel",
       "_view_count": null,
       "_view_module": "@jupyter-widgets/controls",
       "_view_module_version": "1.5.0",
       "_view_name": "HTMLView",
       "description": "",
       "description_tooltip": null,
       "layout": "IPY_MODEL_28c405d3058247abba715398f3a17ce4",
       "placeholder": "​",
       "style": "IPY_MODEL_c00a278475a64b1fa0901eac964744f8",
       "value": "model.safetensors: 100%"
      }
     },
     "8b8a889a63f4419cab80ce6d52402d1e": {
      "model_module": "@jupyter-widgets/controls",
      "model_module_version": "1.5.0",
      "model_name": "ProgressStyleModel",
      "state": {
       "_model_module": "@jupyter-widgets/controls",
       "_model_module_version": "1.5.0",
       "_model_name": "ProgressStyleModel",
       "_view_count": null,
       "_view_module": "@jupyter-widgets/base",
       "_view_module_version": "1.2.0",
       "_view_name": "StyleView",
       "bar_color": null,
       "description_width": ""
      }
     },
     "8cf8f8e44a1c4974b21c1b33cfa60c91": {
      "model_module": "@jupyter-widgets/controls",
      "model_module_version": "1.5.0",
      "model_name": "HBoxModel",
      "state": {
       "_dom_classes": [],
       "_model_module": "@jupyter-widgets/controls",
       "_model_module_version": "1.5.0",
       "_model_name": "HBoxModel",
       "_view_count": null,
       "_view_module": "@jupyter-widgets/controls",
       "_view_module_version": "1.5.0",
       "_view_name": "HBoxView",
       "box_style": "",
       "children": [
        "IPY_MODEL_8b06750008e343329857f5763e2d78fb",
        "IPY_MODEL_715b15caf23740f68749bb65a870cd27",
        "IPY_MODEL_171dfe65013e4c5db3b8e4c8e346b6cd"
       ],
       "layout": "IPY_MODEL_eaf7322ff2204f71ad8c33dcf51f1863"
      }
     },
     "97af3279138d4169b23b9496d5694519": {
      "model_module": "@jupyter-widgets/base",
      "model_module_version": "1.2.0",
      "model_name": "LayoutModel",
      "state": {
       "_model_module": "@jupyter-widgets/base",
       "_model_module_version": "1.2.0",
       "_model_name": "LayoutModel",
       "_view_count": null,
       "_view_module": "@jupyter-widgets/base",
       "_view_module_version": "1.2.0",
       "_view_name": "LayoutView",
       "align_content": null,
       "align_items": null,
       "align_self": null,
       "border": null,
       "bottom": null,
       "display": null,
       "flex": null,
       "flex_flow": null,
       "grid_area": null,
       "grid_auto_columns": null,
       "grid_auto_flow": null,
       "grid_auto_rows": null,
       "grid_column": null,
       "grid_gap": null,
       "grid_row": null,
       "grid_template_areas": null,
       "grid_template_columns": null,
       "grid_template_rows": null,
       "height": null,
       "justify_content": null,
       "justify_items": null,
       "left": null,
       "margin": null,
       "max_height": null,
       "max_width": null,
       "min_height": null,
       "min_width": null,
       "object_fit": null,
       "object_position": null,
       "order": null,
       "overflow": null,
       "overflow_x": null,
       "overflow_y": null,
       "padding": null,
       "right": null,
       "top": null,
       "visibility": null,
       "width": null
      }
     },
     "c00a278475a64b1fa0901eac964744f8": {
      "model_module": "@jupyter-widgets/controls",
      "model_module_version": "1.5.0",
      "model_name": "DescriptionStyleModel",
      "state": {
       "_model_module": "@jupyter-widgets/controls",
       "_model_module_version": "1.5.0",
       "_model_name": "DescriptionStyleModel",
       "_view_count": null,
       "_view_module": "@jupyter-widgets/base",
       "_view_module_version": "1.2.0",
       "_view_name": "StyleView",
       "description_width": ""
      }
     },
     "eaf7322ff2204f71ad8c33dcf51f1863": {
      "model_module": "@jupyter-widgets/base",
      "model_module_version": "1.2.0",
      "model_name": "LayoutModel",
      "state": {
       "_model_module": "@jupyter-widgets/base",
       "_model_module_version": "1.2.0",
       "_model_name": "LayoutModel",
       "_view_count": null,
       "_view_module": "@jupyter-widgets/base",
       "_view_module_version": "1.2.0",
       "_view_name": "LayoutView",
       "align_content": null,
       "align_items": null,
       "align_self": null,
       "border": null,
       "bottom": null,
       "display": null,
       "flex": null,
       "flex_flow": null,
       "grid_area": null,
       "grid_auto_columns": null,
       "grid_auto_flow": null,
       "grid_auto_rows": null,
       "grid_column": null,
       "grid_gap": null,
       "grid_row": null,
       "grid_template_areas": null,
       "grid_template_columns": null,
       "grid_template_rows": null,
       "height": null,
       "justify_content": null,
       "justify_items": null,
       "left": null,
       "margin": null,
       "max_height": null,
       "max_width": null,
       "min_height": null,
       "min_width": null,
       "object_fit": null,
       "object_position": null,
       "order": null,
       "overflow": null,
       "overflow_x": null,
       "overflow_y": null,
       "padding": null,
       "right": null,
       "top": null,
       "visibility": null,
       "width": null
      }
     },
     "fdb6e9a303de41868c92b9df1c726ca1": {
      "model_module": "@jupyter-widgets/base",
      "model_module_version": "1.2.0",
      "model_name": "LayoutModel",
      "state": {
       "_model_module": "@jupyter-widgets/base",
       "_model_module_version": "1.2.0",
       "_model_name": "LayoutModel",
       "_view_count": null,
       "_view_module": "@jupyter-widgets/base",
       "_view_module_version": "1.2.0",
       "_view_name": "LayoutView",
       "align_content": null,
       "align_items": null,
       "align_self": null,
       "border": null,
       "bottom": null,
       "display": null,
       "flex": null,
       "flex_flow": null,
       "grid_area": null,
       "grid_auto_columns": null,
       "grid_auto_flow": null,
       "grid_auto_rows": null,
       "grid_column": null,
       "grid_gap": null,
       "grid_row": null,
       "grid_template_areas": null,
       "grid_template_columns": null,
       "grid_template_rows": null,
       "height": null,
       "justify_content": null,
       "justify_items": null,
       "left": null,
       "margin": null,
       "max_height": null,
       "max_width": null,
       "min_height": null,
       "min_width": null,
       "object_fit": null,
       "object_position": null,
       "order": null,
       "overflow": null,
       "overflow_x": null,
       "overflow_y": null,
       "padding": null,
       "right": null,
       "top": null,
       "visibility": null,
       "width": null
      }
     }
    },
    "version_major": 2,
    "version_minor": 0
   }
  }
 },
 "nbformat": 4,
 "nbformat_minor": 5
}
