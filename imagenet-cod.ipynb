{
 "cells": [
  {
   "cell_type": "code",
   "execution_count": 1,
   "id": "9349b9ac",
   "metadata": {
    "_cell_guid": "b1076dfc-b9ad-4769-8c92-a6c4dae69d19",
    "_uuid": "8f2839f25d086af736a60e9eeb907d3b93b6e0e5",
    "execution": {
     "iopub.execute_input": "2024-06-17T11:57:08.715286Z",
     "iopub.status.busy": "2024-06-17T11:57:08.714924Z",
     "iopub.status.idle": "2024-06-17T11:57:17.399110Z",
     "shell.execute_reply": "2024-06-17T11:57:17.398341Z"
    },
    "papermill": {
     "duration": 8.691089,
     "end_time": "2024-06-17T11:57:17.401294",
     "exception": false,
     "start_time": "2024-06-17T11:57:08.710205",
     "status": "completed"
    },
    "tags": []
   },
   "outputs": [],
   "source": [
    "import os\n",
    "import timm\n",
    "import torch\n",
    "from tqdm import tqdm\n",
    "import cv2\n",
    "from torch.utils.data import Dataset, DataLoader, random_split\n",
    "import torch\n",
    "from torch.utils.data import DataLoader, Dataset\n",
    "from torchvision.transforms import transforms\n",
    "import torch.nn.functional as F\n",
    "# from sklearn.metrics import accuracy_score\n",
    "from torchmetrics.classification import MulticlassAccuracy"
   ]
  },
  {
   "cell_type": "markdown",
   "id": "dadbc15e",
   "metadata": {
    "papermill": {
     "duration": 0.002946,
     "end_time": "2024-06-17T11:57:17.407820",
     "exception": false,
     "start_time": "2024-06-17T11:57:17.404874",
     "status": "completed"
    },
    "tags": []
   },
   "source": [
    "## dataset"
   ]
  },
  {
   "cell_type": "code",
   "execution_count": 2,
   "id": "d2eb0d6b",
   "metadata": {
    "execution": {
     "iopub.execute_input": "2024-06-17T11:57:17.415071Z",
     "iopub.status.busy": "2024-06-17T11:57:17.414766Z",
     "iopub.status.idle": "2024-06-17T11:57:17.432026Z",
     "shell.execute_reply": "2024-06-17T11:57:17.431143Z"
    },
    "papermill": {
     "duration": 0.022945,
     "end_time": "2024-06-17T11:57:17.433826",
     "exception": false,
     "start_time": "2024-06-17T11:57:17.410881",
     "status": "completed"
    },
    "tags": []
   },
   "outputs": [],
   "source": [
    "classes = os.listdir('/kaggle/input/half-binary/half_binary_COD/half_binary_COD')"
   ]
  },
  {
   "cell_type": "code",
   "execution_count": 3,
   "id": "79ec5995",
   "metadata": {
    "execution": {
     "iopub.execute_input": "2024-06-17T11:57:17.441216Z",
     "iopub.status.busy": "2024-06-17T11:57:17.440913Z",
     "iopub.status.idle": "2024-06-17T11:57:20.974059Z",
     "shell.execute_reply": "2024-06-17T11:57:20.973142Z"
    },
    "papermill": {
     "duration": 3.539393,
     "end_time": "2024-06-17T11:57:20.976284",
     "exception": false,
     "start_time": "2024-06-17T11:57:17.436891",
     "status": "completed"
    },
    "tags": []
   },
   "outputs": [
    {
     "data": {
      "text/plain": [
       "27711"
      ]
     },
     "execution_count": 3,
     "metadata": {},
     "output_type": "execute_result"
    }
   ],
   "source": [
    "class half_binary_dataset(Dataset):\n",
    "    \"\"\"\n",
    "        半二值图像数据集\n",
    "    \"\"\"\n",
    "\n",
    "    def __init__(self, add_imagenet=False, train=True, transform=None):\n",
    "        super().__init__()\n",
    "\n",
    "        ## set classes\n",
    "        self.classes_ImageNet = os.listdir('/kaggle/input/half-binary/half_binary_ImageNet_15/half_binary_ImageNet_15')\n",
    "        self.classes_COD = os.listdir('/kaggle/input/half-binary/half_binary_COD/half_binary_COD')\n",
    "        self.Train = train\n",
    "        self.transform = transform\n",
    "\n",
    "        ## load dataset\n",
    "        self.train_data = []\n",
    "        self.labels = []\n",
    "\n",
    "        # load COD train\n",
    "        if self.Train:\n",
    "            for label, class_name in enumerate(self.classes_COD):\n",
    "                image_path = os.path.join('/kaggle/input/half-binary/half_binary_COD/half_binary_COD', class_name, 'train')\n",
    "                images = os.listdir(image_path)\n",
    "                for img in images:\n",
    "                    self.train_data.append(\n",
    "                        os.path.join(image_path, img)\n",
    "                    )\n",
    "                    self.labels.append(classes.index(class_name))\n",
    "\n",
    "            # load imageNet\n",
    "            if add_imagenet:\n",
    "                for label, class_name in enumerate(self.classes_ImageNet):\n",
    "                    image_path = os.path.join('/kaggle/input/half-binary/half_binary_ImageNet_15/half_binary_ImageNet_15', class_name)\n",
    "                    images = os.listdir(image_path)\n",
    "                    for img in images:\n",
    "                        self.train_data.append(\n",
    "                            os.path.join(image_path, img)\n",
    "                        )\n",
    "                        self.labels.append(classes.index(class_name))\n",
    "\n",
    "        # load COD test\n",
    "        else:\n",
    "            for label, class_name in enumerate(self.classes_COD):\n",
    "                image_path = os.path.join('/kaggle/input/half-binary/half_binary_COD/half_binary_COD', class_name, 'test')\n",
    "                images = os.listdir(image_path)\n",
    "                for img in images:\n",
    "                    self.train_data.append(\n",
    "                        os.path.join(image_path, img)\n",
    "                    )\n",
    "                    self.labels.append(label)\n",
    "\n",
    "    def __len__(self):\n",
    "        return len(self.train_data)\n",
    "\n",
    "    def __getitem__(self, idx):\n",
    "        img = cv2.imread(\n",
    "            self.train_data[idx]\n",
    "        )\n",
    "        if self.transform:\n",
    "            img = self.transform(img)\n",
    "        return img, self.labels[idx]\n",
    "\n",
    "_dataset = half_binary_dataset(add_imagenet=True)\n",
    "len(_dataset.labels)"
   ]
  },
  {
   "cell_type": "markdown",
   "id": "7ebf959d",
   "metadata": {
    "papermill": {
     "duration": 0.003167,
     "end_time": "2024-06-17T11:57:20.983179",
     "exception": false,
     "start_time": "2024-06-17T11:57:20.980012",
     "status": "completed"
    },
    "tags": []
   },
   "source": [
    "## Train"
   ]
  },
  {
   "cell_type": "code",
   "execution_count": 4,
   "id": "368f5d5a",
   "metadata": {
    "execution": {
     "iopub.execute_input": "2024-06-17T11:57:20.990872Z",
     "iopub.status.busy": "2024-06-17T11:57:20.990578Z",
     "iopub.status.idle": "2024-06-17T11:57:20.995264Z",
     "shell.execute_reply": "2024-06-17T11:57:20.994409Z"
    },
    "papermill": {
     "duration": 0.010775,
     "end_time": "2024-06-17T11:57:20.997202",
     "exception": false,
     "start_time": "2024-06-17T11:57:20.986427",
     "status": "completed"
    },
    "tags": []
   },
   "outputs": [],
   "source": [
    "## 参数\n",
    "add_imagenet = False\n",
    "lr = 0.001\n",
    "betas = (0.9, 0.999)\n",
    "batch_size = 32\n",
    "epoches = 10\n",
    "T_max = 10\n",
    "weight_decay=1e-3\n",
    "class_num = len(classes)"
   ]
  },
  {
   "cell_type": "code",
   "execution_count": 5,
   "id": "09df6abc",
   "metadata": {
    "execution": {
     "iopub.execute_input": "2024-06-17T11:57:21.004842Z",
     "iopub.status.busy": "2024-06-17T11:57:21.004594Z",
     "iopub.status.idle": "2024-06-17T11:57:21.012943Z",
     "shell.execute_reply": "2024-06-17T11:57:21.011900Z"
    },
    "papermill": {
     "duration": 0.014264,
     "end_time": "2024-06-17T11:57:21.014745",
     "exception": false,
     "start_time": "2024-06-17T11:57:21.000481",
     "status": "completed"
    },
    "tags": []
   },
   "outputs": [],
   "source": [
    "def create_lr_scheduler(optimizer,\n",
    "                        num_step: int,\n",
    "                        epochs: int,\n",
    "                        warmup=True,\n",
    "                        warmup_epochs=1,\n",
    "                        warmup_factor=1e-3):\n",
    "    \"\"\"\n",
    "    学习率调度器， 先warm up，然后再decay\n",
    "    :param optimizer: 优化器\n",
    "    :param num_step: 每个epoch的step数，即每个epoch中batch的数量，len(train_dataset) / batch_size\n",
    "    :param epochs: 总epoch数\n",
    "    :param warmup: 是否warm up\n",
    "    :param warmup_epochs: warm up 的epoch数\n",
    "    :param warmup_factor: warm up 的学习率因子\n",
    "    :return:\n",
    "    \"\"\"\n",
    "    assert num_step > 0 and epochs > 0\n",
    "    if warmup is False:\n",
    "        warmup_epochs = 0\n",
    "\n",
    "    def f(x):\n",
    "        \"\"\"\n",
    "        根据step数返回一个学习率因子，\n",
    "        注意在训练开始之前，pytorch会提前调用一次lr_schedule.step()方法\n",
    "\n",
    "        \"\"\"\n",
    "        if warmup is True and x <= (warmup_epochs * num_step):\n",
    "            alpha = float(x) / (warmup_epochs * num_step)\n",
    "            # 在warm up 的过程中，学习率因子：warmup factor -> 1\n",
    "\n",
    "            return warmup_factor * (1 - alpha) + alpha\n",
    "\n",
    "        else:\n",
    "            # 在warm up 之后，学习率因子：1 -> 0\n",
    "            return (1 - (x - warmup_epochs * num_step) / ((epochs - warmup_epochs) * num_step)) ** 2\n",
    "\n",
    "    return torch.optim.lr_scheduler.LambdaLR(optimizer, lr_lambda=f)"
   ]
  },
  {
   "cell_type": "code",
   "execution_count": 6,
   "id": "16286e3a",
   "metadata": {
    "execution": {
     "iopub.execute_input": "2024-06-17T11:57:21.022480Z",
     "iopub.status.busy": "2024-06-17T11:57:21.022224Z",
     "iopub.status.idle": "2024-06-17T12:38:33.797476Z",
     "shell.execute_reply": "2024-06-17T12:38:33.796308Z"
    },
    "papermill": {
     "duration": 2472.787068,
     "end_time": "2024-06-17T12:38:33.805086",
     "exception": false,
     "start_time": "2024-06-17T11:57:21.018018",
     "status": "completed"
    },
    "tags": []
   },
   "outputs": [
    {
     "data": {
      "application/vnd.jupyter.widget-view+json": {
       "model_id": "882d0bc60e3c40cb84acfb7658430ce0",
       "version_major": 2,
       "version_minor": 0
      },
      "text/plain": [
       "model.safetensors:   0%|          | 0.00/88.2M [00:00<?, ?B/s]"
      ]
     },
     "metadata": {},
     "output_type": "display_data"
    },
    {
     "name": "stdout",
     "output_type": "stream",
     "text": [
      "epoch: 1\n",
      "loss: 2.738327577813393   accuracy train: 22.46%\n",
      "accuracy test: 11.90%\n",
      "\n",
      "epoch: 2\n",
      "loss: 1.3611128400434798   accuracy train: 54.76%\n",
      "accuracy test: 22.26%\n",
      "\n",
      "epoch: 3\n",
      "loss: 0.9319413221907946   accuracy train: 64.88%\n",
      "accuracy test: 30.73%\n",
      "\n",
      "epoch: 4\n",
      "loss: 0.7255427803302197   accuracy train: 69.33%\n",
      "accuracy test: 38.56%\n",
      "\n",
      "epoch: 5\n",
      "loss: 0.5944648934807844   accuracy train: 72.96%\n",
      "accuracy test: 45.32%\n",
      "\n",
      "epoch: 6\n",
      "loss: 0.4935296674024563   accuracy train: 75.21%\n",
      "accuracy test: 53.96%\n",
      "\n",
      "epoch: 7\n",
      "loss: 0.4075156436377048   accuracy train: 78.38%\n",
      "accuracy test: 61.27%\n",
      "\n",
      "epoch: 8\n",
      "loss: 0.32640173338680567   accuracy train: 82.15%\n",
      "accuracy test: 71.05%\n",
      "\n",
      "epoch: 9\n",
      "loss: 0.2551808812296315   accuracy train: 86.11%\n",
      "accuracy test: 76.48%\n",
      "\n",
      "epoch: 10\n",
      "loss: 0.19153859739258508   accuracy train: 89.96%\n",
      "accuracy test: 82.74%\n",
      "\n"
     ]
    }
   ],
   "source": [
    "transform = transforms.Compose([\n",
    "    transforms.ToPILImage(),  # 将cv2读取的图像从NumPy数组转换为PIL图像\n",
    "    transforms.Resize((224, 224)),  # 调整图像大小\n",
    "    transforms.ToTensor(),  # 将图像转换为张量并归一化到[0, 1]\n",
    "    transforms.Normalize(mean=[0.485, 0.456, 0.406], std=[0.229, 0.224, 0.225])  # 标准化\n",
    "])\n",
    "\n",
    "\n",
    "train_dataset = half_binary_dataset(add_imagenet=True, transform=transform)\n",
    "test_dataset = half_binary_dataset(add_imagenet=True, transform=transform)\n",
    "\n",
    "\n",
    "train_loader = DataLoader(\n",
    "    train_dataset,\n",
    "    num_workers=min([os.cpu_count(), batch_size if batch_size > 1 else 0, 8]),\n",
    "    shuffle=True,\n",
    "    batch_size=batch_size\n",
    ")\n",
    "test_loader = DataLoader(\n",
    "    test_dataset,\n",
    "    num_workers=min([os.cpu_count(), batch_size if batch_size > 1 else 0, 8]),\n",
    "    shuffle=False,\n",
    "    batch_size=batch_size\n",
    ")\n",
    "\n",
    "## device\n",
    "device = torch.device('cuda' if torch.cuda.is_available() else 'cpu')\n",
    "\n",
    "\n",
    "## import model\n",
    "model = timm.create_model('vit_small_patch16_224', pretrained=True)\n",
    "model.head = torch.nn.Linear(model.head.in_features, class_num)  # 修改分类头为15类\n",
    "model:torch.nn.Module = model.to(device)\n",
    "\n",
    "\n",
    "# criterion and optimizer\n",
    "criterion = torch.nn.CrossEntropyLoss()\n",
    "optimizer = torch.optim.Adam(model.parameters(), lr=lr, betas=betas, weight_decay=weight_decay)\n",
    "lr_scheduler = create_lr_scheduler(\n",
    "    optimizer=optimizer,\n",
    "    num_step=len(train_loader),\n",
    "    epochs=epoches,\n",
    "    warmup_epochs=3\n",
    ")\n",
    "accuracy_score = MulticlassAccuracy(num_classes=class_num).to(device)\n",
    "\n",
    "\n",
    "if __name__ == \"__main__\":\n",
    "    for ep in range(epoches):\n",
    "        print(\"epoch:\", ep + 1)\n",
    "        loss_one_epoch = []\n",
    "        accuracy_one_epoch = []\n",
    "        for images, labels in train_loader:\n",
    "            optimizer.zero_grad()\n",
    "\n",
    "            # pre\n",
    "            images, labels = images.to(device), labels.to(device)\n",
    "            # labels = F.one_hot(labels, class_num).to(torch.float32)\n",
    "            pre: torch.Tensor = model(images)\n",
    "\n",
    "            # back-propagation\n",
    "            loss: torch.Tensor = criterion(pre, F.one_hot(labels, class_num).to(torch.float32))\n",
    "            loss.backward()\n",
    "            optimizer.step()\n",
    "            \n",
    "\n",
    "            # count\n",
    "            loss_one_epoch.append(loss.detach().item())\n",
    "            accuracy_one_epoch.append(\n",
    "                accuracy_score(pre, labels)\n",
    "            )\n",
    "\n",
    "        print(f'loss: {sum(loss_one_epoch) / len(loss_one_epoch)}   accuracy train: {sum(accuracy_one_epoch) / len(accuracy_one_epoch) * 100.0:.2f}%')\n",
    "        lr_scheduler.step()\n",
    "        \n",
    "        accuracy_one_epoch = []\n",
    "        for images, labels in test_loader:\n",
    "            with torch.no_grad():\n",
    "                images, labels = images.to(device), labels.to(device)\n",
    "                pre: torch.Tensor = model(images)\n",
    "\n",
    "                accuracy_one_epoch.append(\n",
    "                    accuracy_score(pre, labels)\n",
    "                )\n",
    "        print(f'accuracy test: {sum(accuracy_one_epoch) / len(accuracy_one_epoch) * 100.0:.2f}%\\n')\n",
    "\n",
    "\n",
    "    ## save model\n",
    "    torch.save(model.state_dict(), 'vit_S16.pt')"
   ]
  },
  {
   "cell_type": "markdown",
   "id": "a00dc859",
   "metadata": {
    "papermill": {
     "duration": 0.004893,
     "end_time": "2024-06-17T12:38:33.815271",
     "exception": false,
     "start_time": "2024-06-17T12:38:33.810378",
     "status": "completed"
    },
    "tags": []
   },
   "source": []
  }
 ],
 "metadata": {
  "kaggle": {
   "accelerator": "gpu",
   "dataSources": [
    {
     "datasetId": 5216894,
     "sourceId": 8711362,
     "sourceType": "datasetVersion"
    }
   ],
   "dockerImageVersionId": 30732,
   "isGpuEnabled": true,
   "isInternetEnabled": true,
   "language": "python",
   "sourceType": "notebook"
  },
  "kernelspec": {
   "display_name": "Python 3",
   "language": "python",
   "name": "python3"
  },
  "language_info": {
   "codemirror_mode": {
    "name": "ipython",
    "version": 3
   },
   "file_extension": ".py",
   "mimetype": "text/x-python",
   "name": "python",
   "nbconvert_exporter": "python",
   "pygments_lexer": "ipython3",
   "version": "3.10.13"
  },
  "papermill": {
   "default_parameters": {},
   "duration": 2490.251594,
   "end_time": "2024-06-17T12:38:36.276381",
   "environment_variables": {},
   "exception": null,
   "input_path": "__notebook__.ipynb",
   "output_path": "__notebook__.ipynb",
   "parameters": {},
   "start_time": "2024-06-17T11:57:06.024787",
   "version": "2.5.0"
  },
  "widgets": {
   "application/vnd.jupyter.widget-state+json": {
    "state": {
     "158108a28d6f4086845cf9cbc7f9dc3d": {
      "model_module": "@jupyter-widgets/controls",
      "model_module_version": "1.5.0",
      "model_name": "ProgressStyleModel",
      "state": {
       "_model_module": "@jupyter-widgets/controls",
       "_model_module_version": "1.5.0",
       "_model_name": "ProgressStyleModel",
       "_view_count": null,
       "_view_module": "@jupyter-widgets/base",
       "_view_module_version": "1.2.0",
       "_view_name": "StyleView",
       "bar_color": null,
       "description_width": ""
      }
     },
     "39bdf00b7084439b92d7fc9930761a03": {
      "model_module": "@jupyter-widgets/base",
      "model_module_version": "1.2.0",
      "model_name": "LayoutModel",
      "state": {
       "_model_module": "@jupyter-widgets/base",
       "_model_module_version": "1.2.0",
       "_model_name": "LayoutModel",
       "_view_count": null,
       "_view_module": "@jupyter-widgets/base",
       "_view_module_version": "1.2.0",
       "_view_name": "LayoutView",
       "align_content": null,
       "align_items": null,
       "align_self": null,
       "border": null,
       "bottom": null,
       "display": null,
       "flex": null,
       "flex_flow": null,
       "grid_area": null,
       "grid_auto_columns": null,
       "grid_auto_flow": null,
       "grid_auto_rows": null,
       "grid_column": null,
       "grid_gap": null,
       "grid_row": null,
       "grid_template_areas": null,
       "grid_template_columns": null,
       "grid_template_rows": null,
       "height": null,
       "justify_content": null,
       "justify_items": null,
       "left": null,
       "margin": null,
       "max_height": null,
       "max_width": null,
       "min_height": null,
       "min_width": null,
       "object_fit": null,
       "object_position": null,
       "order": null,
       "overflow": null,
       "overflow_x": null,
       "overflow_y": null,
       "padding": null,
       "right": null,
       "top": null,
       "visibility": null,
       "width": null
      }
     },
     "3bec3cdecb4f463ab66a5cd1459147b8": {
      "model_module": "@jupyter-widgets/controls",
      "model_module_version": "1.5.0",
      "model_name": "DescriptionStyleModel",
      "state": {
       "_model_module": "@jupyter-widgets/controls",
       "_model_module_version": "1.5.0",
       "_model_name": "DescriptionStyleModel",
       "_view_count": null,
       "_view_module": "@jupyter-widgets/base",
       "_view_module_version": "1.2.0",
       "_view_name": "StyleView",
       "description_width": ""
      }
     },
     "4ae96dd6a98747f3b04e57b30c601228": {
      "model_module": "@jupyter-widgets/controls",
      "model_module_version": "1.5.0",
      "model_name": "HTMLModel",
      "state": {
       "_dom_classes": [],
       "_model_module": "@jupyter-widgets/controls",
       "_model_module_version": "1.5.0",
       "_model_name": "HTMLModel",
       "_view_count": null,
       "_view_module": "@jupyter-widgets/controls",
       "_view_module_version": "1.5.0",
       "_view_name": "HTMLView",
       "description": "",
       "description_tooltip": null,
       "layout": "IPY_MODEL_c25be8ab377c4b5384fbba0e5e1436b1",
       "placeholder": "​",
       "style": "IPY_MODEL_3bec3cdecb4f463ab66a5cd1459147b8",
       "value": "model.safetensors: 100%"
      }
     },
     "5f114791ce75494eb32ffcf48f47b2dc": {
      "model_module": "@jupyter-widgets/controls",
      "model_module_version": "1.5.0",
      "model_name": "DescriptionStyleModel",
      "state": {
       "_model_module": "@jupyter-widgets/controls",
       "_model_module_version": "1.5.0",
       "_model_name": "DescriptionStyleModel",
       "_view_count": null,
       "_view_module": "@jupyter-widgets/base",
       "_view_module_version": "1.2.0",
       "_view_name": "StyleView",
       "description_width": ""
      }
     },
     "6dcd87d25fec485cbeb35901c472d1cf": {
      "model_module": "@jupyter-widgets/controls",
      "model_module_version": "1.5.0",
      "model_name": "HTMLModel",
      "state": {
       "_dom_classes": [],
       "_model_module": "@jupyter-widgets/controls",
       "_model_module_version": "1.5.0",
       "_model_name": "HTMLModel",
       "_view_count": null,
       "_view_module": "@jupyter-widgets/controls",
       "_view_module_version": "1.5.0",
       "_view_name": "HTMLView",
       "description": "",
       "description_tooltip": null,
       "layout": "IPY_MODEL_7108b999b56b477bad5eaddcf204622d",
       "placeholder": "​",
       "style": "IPY_MODEL_5f114791ce75494eb32ffcf48f47b2dc",
       "value": " 88.2M/88.2M [00:00&lt;00:00, 152MB/s]"
      }
     },
     "7108b999b56b477bad5eaddcf204622d": {
      "model_module": "@jupyter-widgets/base",
      "model_module_version": "1.2.0",
      "model_name": "LayoutModel",
      "state": {
       "_model_module": "@jupyter-widgets/base",
       "_model_module_version": "1.2.0",
       "_model_name": "LayoutModel",
       "_view_count": null,
       "_view_module": "@jupyter-widgets/base",
       "_view_module_version": "1.2.0",
       "_view_name": "LayoutView",
       "align_content": null,
       "align_items": null,
       "align_self": null,
       "border": null,
       "bottom": null,
       "display": null,
       "flex": null,
       "flex_flow": null,
       "grid_area": null,
       "grid_auto_columns": null,
       "grid_auto_flow": null,
       "grid_auto_rows": null,
       "grid_column": null,
       "grid_gap": null,
       "grid_row": null,
       "grid_template_areas": null,
       "grid_template_columns": null,
       "grid_template_rows": null,
       "height": null,
       "justify_content": null,
       "justify_items": null,
       "left": null,
       "margin": null,
       "max_height": null,
       "max_width": null,
       "min_height": null,
       "min_width": null,
       "object_fit": null,
       "object_position": null,
       "order": null,
       "overflow": null,
       "overflow_x": null,
       "overflow_y": null,
       "padding": null,
       "right": null,
       "top": null,
       "visibility": null,
       "width": null
      }
     },
     "882d0bc60e3c40cb84acfb7658430ce0": {
      "model_module": "@jupyter-widgets/controls",
      "model_module_version": "1.5.0",
      "model_name": "HBoxModel",
      "state": {
       "_dom_classes": [],
       "_model_module": "@jupyter-widgets/controls",
       "_model_module_version": "1.5.0",
       "_model_name": "HBoxModel",
       "_view_count": null,
       "_view_module": "@jupyter-widgets/controls",
       "_view_module_version": "1.5.0",
       "_view_name": "HBoxView",
       "box_style": "",
       "children": [
        "IPY_MODEL_4ae96dd6a98747f3b04e57b30c601228",
        "IPY_MODEL_a8e2157931704d93a325d6e7d6fc0ae0",
        "IPY_MODEL_6dcd87d25fec485cbeb35901c472d1cf"
       ],
       "layout": "IPY_MODEL_39bdf00b7084439b92d7fc9930761a03"
      }
     },
     "a8e2157931704d93a325d6e7d6fc0ae0": {
      "model_module": "@jupyter-widgets/controls",
      "model_module_version": "1.5.0",
      "model_name": "FloatProgressModel",
      "state": {
       "_dom_classes": [],
       "_model_module": "@jupyter-widgets/controls",
       "_model_module_version": "1.5.0",
       "_model_name": "FloatProgressModel",
       "_view_count": null,
       "_view_module": "@jupyter-widgets/controls",
       "_view_module_version": "1.5.0",
       "_view_name": "ProgressView",
       "bar_style": "success",
       "description": "",
       "description_tooltip": null,
       "layout": "IPY_MODEL_b58df5b05db34bfebcc20446e55aff1c",
       "max": 8.8216496E7,
       "min": 0.0,
       "orientation": "horizontal",
       "style": "IPY_MODEL_158108a28d6f4086845cf9cbc7f9dc3d",
       "value": 8.8216496E7
      }
     },
     "b58df5b05db34bfebcc20446e55aff1c": {
      "model_module": "@jupyter-widgets/base",
      "model_module_version": "1.2.0",
      "model_name": "LayoutModel",
      "state": {
       "_model_module": "@jupyter-widgets/base",
       "_model_module_version": "1.2.0",
       "_model_name": "LayoutModel",
       "_view_count": null,
       "_view_module": "@jupyter-widgets/base",
       "_view_module_version": "1.2.0",
       "_view_name": "LayoutView",
       "align_content": null,
       "align_items": null,
       "align_self": null,
       "border": null,
       "bottom": null,
       "display": null,
       "flex": null,
       "flex_flow": null,
       "grid_area": null,
       "grid_auto_columns": null,
       "grid_auto_flow": null,
       "grid_auto_rows": null,
       "grid_column": null,
       "grid_gap": null,
       "grid_row": null,
       "grid_template_areas": null,
       "grid_template_columns": null,
       "grid_template_rows": null,
       "height": null,
       "justify_content": null,
       "justify_items": null,
       "left": null,
       "margin": null,
       "max_height": null,
       "max_width": null,
       "min_height": null,
       "min_width": null,
       "object_fit": null,
       "object_position": null,
       "order": null,
       "overflow": null,
       "overflow_x": null,
       "overflow_y": null,
       "padding": null,
       "right": null,
       "top": null,
       "visibility": null,
       "width": null
      }
     },
     "c25be8ab377c4b5384fbba0e5e1436b1": {
      "model_module": "@jupyter-widgets/base",
      "model_module_version": "1.2.0",
      "model_name": "LayoutModel",
      "state": {
       "_model_module": "@jupyter-widgets/base",
       "_model_module_version": "1.2.0",
       "_model_name": "LayoutModel",
       "_view_count": null,
       "_view_module": "@jupyter-widgets/base",
       "_view_module_version": "1.2.0",
       "_view_name": "LayoutView",
       "align_content": null,
       "align_items": null,
       "align_self": null,
       "border": null,
       "bottom": null,
       "display": null,
       "flex": null,
       "flex_flow": null,
       "grid_area": null,
       "grid_auto_columns": null,
       "grid_auto_flow": null,
       "grid_auto_rows": null,
       "grid_column": null,
       "grid_gap": null,
       "grid_row": null,
       "grid_template_areas": null,
       "grid_template_columns": null,
       "grid_template_rows": null,
       "height": null,
       "justify_content": null,
       "justify_items": null,
       "left": null,
       "margin": null,
       "max_height": null,
       "max_width": null,
       "min_height": null,
       "min_width": null,
       "object_fit": null,
       "object_position": null,
       "order": null,
       "overflow": null,
       "overflow_x": null,
       "overflow_y": null,
       "padding": null,
       "right": null,
       "top": null,
       "visibility": null,
       "width": null
      }
     }
    },
    "version_major": 2,
    "version_minor": 0
   }
  }
 },
 "nbformat": 4,
 "nbformat_minor": 5
}
